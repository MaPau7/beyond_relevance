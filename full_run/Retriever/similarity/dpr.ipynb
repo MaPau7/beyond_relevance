{
 "cells": [
  {
   "cell_type": "code",
   "execution_count": null,
   "id": "bec391f8-c599-482c-8999-57097a54f137",
   "metadata": {},
   "outputs": [],
   "source": [
    "from transformers import (\n",
    "    DPRContextEncoder, DPRContextEncoderTokenizer,\n",
    "    DPRQuestionEncoder, DPRQuestionEncoderTokenizer,\n",
    "    AutoTokenizer, AutoModel\n",
    ")\n",
    "from Retriever.base import BaseRetriever\n",
    "from Retriever.utils import create_embeddings\n",
    "\n",
    "class DPRRetriever(BaseRetriever):\n",
    "    def load_model(self):\n",
    "        \"\"\"Loads DPR or SimCSE models.\"\"\"\n",
    "        if self.model_name == \"dpr\":\n",
    "            ctokenizer = DPRContextEncoderTokenizer.from_pretrained(\"facebook/dpr-ctx_encoder-single-nq-base\")\n",
    "            cmodel = DPRContextEncoder.from_pretrained(\"facebook/dpr-ctx_encoder-single-nq-base\")\n",
    "            qtokenizer = DPRQuestionEncoderTokenizer.from_pretrained(\"facebook/dpr-question_encoder-single-nq-base\")\n",
    "            qmodel = DPRQuestionEncoder.from_pretrained(\"facebook/dpr-question_encoder-single-nq-base\")\n",
    "        else:  # SimCSE models\n",
    "            model_mapping = {\n",
    "                \"simcse-unsup\": \"princeton-nlp/unsup-simcse-bert-base-uncased\",\n",
    "                \"simcse-sup\": \"princeton-nlp/sup-simcse-bert-base-uncased\",\n",
    "            }\n",
    "            ctokenizer = AutoTokenizer.from_pretrained(model_mapping[self.model_name])\n",
    "            cmodel = AutoModel.from_pretrained(model_mapping[self.model_name])\n",
    "            qtokenizer = AutoTokenizer.from_pretrained(model_mapping[self.model_name])\n",
    "            qmodel = AutoModel.from_pretrained(model_mapping[self.model_name])\n",
    "\n",
    "        return (ctokenizer, cmodel), (qtokenizer, qmodel)\n",
    "\n",
    "    def embed_texts(self, texts):\n",
    "        \"\"\"Generates embeddings using DPR/SimCSE models.\"\"\"\n",
    "        return create_embeddings(self.tokenizer, self.model, texts)\n"
   ]
  }
 ],
 "metadata": {
  "kernelspec": {
   "display_name": "Python 3 (ipykernel)",
   "language": "python",
   "name": "python3"
  },
  "language_info": {
   "codemirror_mode": {
    "name": "ipython",
    "version": 3
   },
   "file_extension": ".py",
   "mimetype": "text/x-python",
   "name": "python",
   "nbconvert_exporter": "python",
   "pygments_lexer": "ipython3",
   "version": "3.13.2"
  }
 },
 "nbformat": 4,
 "nbformat_minor": 5
}
