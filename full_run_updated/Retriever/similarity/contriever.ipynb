{
 "cells": [
  {
   "cell_type": "code",
   "execution_count": null,
   "id": "ae6d054c-ded7-4488-843d-18a81e19aaec",
   "metadata": {},
   "outputs": [],
   "source": [
    "from transformers import AutoTokenizer, AutoModel\n",
    "import torch\n",
    "from Retriever.base import BaseRetriever\n",
    "from Retriever.utils import create_embeddings\n",
    "\n",
    "class ContrieverRetriever(BaseRetriever):\n",
    "    def load_model(self):\n",
    "        \"\"\"Loads the Contriever model.\"\"\"\n",
    "        tokenizer = AutoTokenizer.from_pretrained(\"facebook/contriever\")\n",
    "        model = AutoModel.from_pretrained(\"facebook/contriever\")\n",
    "        return tokenizer, model\n",
    "\n",
    "    def embed_texts(self, texts):\n",
    "        \"\"\"Generate embeddings using mean pooling.\"\"\"\n",
    "        return create_embeddings(self.tokenizer, self.model, texts)"
   ]
  }
 ],
 "metadata": {
  "kernelspec": {
   "display_name": "Python 3 (ipykernel)",
   "language": "python",
   "name": "python3"
  },
  "language_info": {
   "codemirror_mode": {
    "name": "ipython",
    "version": 3
   },
   "file_extension": ".py",
   "mimetype": "text/x-python",
   "name": "python",
   "nbconvert_exporter": "python",
   "pygments_lexer": "ipython3",
   "version": "3.13.2"
  }
 },
 "nbformat": 4,
 "nbformat_minor": 5
}
